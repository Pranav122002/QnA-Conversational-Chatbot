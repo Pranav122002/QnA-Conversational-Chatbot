{
  "nbformat": 4,
  "nbformat_minor": 0,
  "metadata": {
    "colab": {
      "provenance": [],
      "toc_visible": true
    },
    "kernelspec": {
      "name": "python3",
      "display_name": "Python 3"
    },
    "language_info": {
      "name": "python"
    }
  },
  "cells": [
    {
      "cell_type": "code",
      "source": [
        "!pip install lmqg"
      ],
      "metadata": {
        "colab": {
          "base_uri": "https://localhost:8080/"
        },
        "id": "PZfIUHY8T5sn",
        "outputId": "e8672cb0-5e03-4e0c-ecca-f55d527c4c97"
      },
      "execution_count": 2,
      "outputs": [
        {
          "output_type": "stream",
          "name": "stdout",
          "text": [
            "Collecting lmqg\n",
            "  Downloading lmqg-0.1.1.tar.gz (100 kB)\n",
            "\u001b[2K     \u001b[90m━━━━━━━━━━━━━━━━━━━━━━━━━━━━━━━━━━━━━━━━\u001b[0m \u001b[32m100.1/100.1 kB\u001b[0m \u001b[31m1.1 MB/s\u001b[0m eta \u001b[36m0:00:00\u001b[0m\n",
            "\u001b[?25h  Preparing metadata (setup.py) ... \u001b[?25l\u001b[?25hdone\n",
            "Requirement already satisfied: psutil in /usr/local/lib/python3.10/dist-packages (from lmqg) (5.9.5)\n",
            "Collecting pytextrank (from lmqg)\n",
            "  Downloading pytextrank-3.2.5-py3-none-any.whl (30 kB)\n",
            "Requirement already satisfied: torch in /usr/local/lib/python3.10/dist-packages (from lmqg) (2.1.0+cu121)\n",
            "Requirement already satisfied: tqdm in /usr/local/lib/python3.10/dist-packages (from lmqg) (4.66.1)\n",
            "Requirement already satisfied: requests in /usr/local/lib/python3.10/dist-packages (from lmqg) (2.31.0)\n",
            "Requirement already satisfied: pandas in /usr/local/lib/python3.10/dist-packages (from lmqg) (1.5.3)\n",
            "Requirement already satisfied: numpy in /usr/local/lib/python3.10/dist-packages (from lmqg) (1.23.5)\n",
            "Requirement already satisfied: transformers>=4.26.1 in /usr/local/lib/python3.10/dist-packages (from lmqg) (4.35.2)\n",
            "Requirement already satisfied: huggingface-hub>=0.12.0 in /usr/local/lib/python3.10/dist-packages (from lmqg) (0.20.2)\n",
            "Collecting sentencepiece (from lmqg)\n",
            "  Downloading sentencepiece-0.1.99-cp310-cp310-manylinux_2_17_x86_64.manylinux2014_x86_64.whl (1.3 MB)\n",
            "\u001b[2K     \u001b[90m━━━━━━━━━━━━━━━━━━━━━━━━━━━━━━━━━━━━━━━━\u001b[0m \u001b[32m1.3/1.3 MB\u001b[0m \u001b[31m9.9 MB/s\u001b[0m eta \u001b[36m0:00:00\u001b[0m\n",
            "\u001b[?25hCollecting datasets (from lmqg)\n",
            "  Downloading datasets-2.16.1-py3-none-any.whl (507 kB)\n",
            "\u001b[2K     \u001b[90m━━━━━━━━━━━━━━━━━━━━━━━━━━━━━━━━━━━━━━━━\u001b[0m \u001b[32m507.1/507.1 kB\u001b[0m \u001b[31m44.8 MB/s\u001b[0m eta \u001b[36m0:00:00\u001b[0m\n",
            "\u001b[?25hRequirement already satisfied: spacy in /usr/local/lib/python3.10/dist-packages (from lmqg) (3.6.1)\n",
            "Collecting sudachipy (from lmqg)\n",
            "  Downloading SudachiPy-0.6.8-cp310-cp310-manylinux_2_17_x86_64.manylinux2014_x86_64.whl (2.6 MB)\n",
            "\u001b[2K     \u001b[90m━━━━━━━━━━━━━━━━━━━━━━━━━━━━━━━━━━━━━━━━\u001b[0m \u001b[32m2.6/2.6 MB\u001b[0m \u001b[31m39.5 MB/s\u001b[0m eta \u001b[36m0:00:00\u001b[0m\n",
            "\u001b[?25hCollecting sudachidict_core (from lmqg)\n",
            "  Downloading SudachiDict_core-20240109-py3-none-any.whl (71.8 MB)\n",
            "\u001b[2K     \u001b[90m━━━━━━━━━━━━━━━━━━━━━━━━━━━━━━━━━━━━━━━━\u001b[0m \u001b[32m71.8/71.8 MB\u001b[0m \u001b[31m7.3 MB/s\u001b[0m eta \u001b[36m0:00:00\u001b[0m\n",
            "\u001b[?25hCollecting bert-score (from lmqg)\n",
            "  Downloading bert_score-0.3.13-py3-none-any.whl (61 kB)\n",
            "\u001b[2K     \u001b[90m━━━━━━━━━━━━━━━━━━━━━━━━━━━━━━━━━━━━━━━━\u001b[0m \u001b[32m61.1/61.1 kB\u001b[0m \u001b[31m7.2 MB/s\u001b[0m eta \u001b[36m0:00:00\u001b[0m\n",
            "\u001b[?25hCollecting pyemd (from lmqg)\n",
            "  Downloading pyemd-1.0.0-cp310-cp310-manylinux_2_17_x86_64.manylinux2014_x86_64.whl (662 kB)\n",
            "\u001b[2K     \u001b[90m━━━━━━━━━━━━━━━━━━━━━━━━━━━━━━━━━━━━━━━━\u001b[0m \u001b[32m662.6/662.6 kB\u001b[0m \u001b[31m37.0 MB/s\u001b[0m eta \u001b[36m0:00:00\u001b[0m\n",
            "\u001b[?25hCollecting evaluate (from lmqg)\n",
            "  Downloading evaluate-0.4.1-py3-none-any.whl (84 kB)\n",
            "\u001b[2K     \u001b[90m━━━━━━━━━━━━━━━━━━━━━━━━━━━━━━━━━━━━━━━━\u001b[0m \u001b[32m84.1/84.1 kB\u001b[0m \u001b[31m8.8 MB/s\u001b[0m eta \u001b[36m0:00:00\u001b[0m\n",
            "\u001b[?25hCollecting wandb (from lmqg)\n",
            "  Downloading wandb-0.16.2-py3-none-any.whl (2.2 MB)\n",
            "\u001b[2K     \u001b[90m━━━━━━━━━━━━━━━━━━━━━━━━━━━━━━━━━━━━━━━━\u001b[0m \u001b[32m2.2/2.2 MB\u001b[0m \u001b[31m59.7 MB/s\u001b[0m eta \u001b[36m0:00:00\u001b[0m\n",
            "\u001b[?25hCollecting ray (from lmqg)\n",
            "  Downloading ray-2.9.1-cp310-cp310-manylinux2014_x86_64.whl (64.8 MB)\n",
            "\u001b[2K     \u001b[90m━━━━━━━━━━━━━━━━━━━━━━━━━━━━━━━━━━━━━━━━\u001b[0m \u001b[32m64.8/64.8 MB\u001b[0m \u001b[31m8.6 MB/s\u001b[0m eta \u001b[36m0:00:00\u001b[0m\n",
            "\u001b[?25hRequirement already satisfied: nltk in /usr/local/lib/python3.10/dist-packages (from lmqg) (3.8.1)\n",
            "Collecting accelerate (from lmqg)\n",
            "  Downloading accelerate-0.26.1-py3-none-any.whl (270 kB)\n",
            "\u001b[2K     \u001b[90m━━━━━━━━━━━━━━━━━━━━━━━━━━━━━━━━━━━━━━━━\u001b[0m \u001b[32m270.9/270.9 kB\u001b[0m \u001b[31m24.3 MB/s\u001b[0m eta \u001b[36m0:00:00\u001b[0m\n",
            "\u001b[?25hRequirement already satisfied: filelock in /usr/local/lib/python3.10/dist-packages (from huggingface-hub>=0.12.0->lmqg) (3.13.1)\n",
            "Requirement already satisfied: fsspec>=2023.5.0 in /usr/local/lib/python3.10/dist-packages (from huggingface-hub>=0.12.0->lmqg) (2023.6.0)\n",
            "Requirement already satisfied: pyyaml>=5.1 in /usr/local/lib/python3.10/dist-packages (from huggingface-hub>=0.12.0->lmqg) (6.0.1)\n",
            "Requirement already satisfied: typing-extensions>=3.7.4.3 in /usr/local/lib/python3.10/dist-packages (from huggingface-hub>=0.12.0->lmqg) (4.5.0)\n",
            "Requirement already satisfied: packaging>=20.9 in /usr/local/lib/python3.10/dist-packages (from huggingface-hub>=0.12.0->lmqg) (23.2)\n",
            "Requirement already satisfied: regex!=2019.12.17 in /usr/local/lib/python3.10/dist-packages (from transformers>=4.26.1->lmqg) (2023.6.3)\n",
            "Requirement already satisfied: tokenizers<0.19,>=0.14 in /usr/local/lib/python3.10/dist-packages (from transformers>=4.26.1->lmqg) (0.15.0)\n",
            "Requirement already satisfied: safetensors>=0.3.1 in /usr/local/lib/python3.10/dist-packages (from transformers>=4.26.1->lmqg) (0.4.1)\n",
            "Requirement already satisfied: sympy in /usr/local/lib/python3.10/dist-packages (from torch->lmqg) (1.12)\n",
            "Requirement already satisfied: networkx in /usr/local/lib/python3.10/dist-packages (from torch->lmqg) (3.2.1)\n",
            "Requirement already satisfied: jinja2 in /usr/local/lib/python3.10/dist-packages (from torch->lmqg) (3.1.3)\n",
            "Requirement already satisfied: triton==2.1.0 in /usr/local/lib/python3.10/dist-packages (from torch->lmqg) (2.1.0)\n",
            "Requirement already satisfied: matplotlib in /usr/local/lib/python3.10/dist-packages (from bert-score->lmqg) (3.7.1)\n",
            "Requirement already satisfied: python-dateutil>=2.8.1 in /usr/local/lib/python3.10/dist-packages (from pandas->lmqg) (2.8.2)\n",
            "Requirement already satisfied: pytz>=2020.1 in /usr/local/lib/python3.10/dist-packages (from pandas->lmqg) (2023.3.post1)\n",
            "Requirement already satisfied: pyarrow>=8.0.0 in /usr/local/lib/python3.10/dist-packages (from datasets->lmqg) (10.0.1)\n",
            "Requirement already satisfied: pyarrow-hotfix in /usr/local/lib/python3.10/dist-packages (from datasets->lmqg) (0.6)\n",
            "Collecting dill<0.3.8,>=0.3.0 (from datasets->lmqg)\n",
            "  Downloading dill-0.3.7-py3-none-any.whl (115 kB)\n",
            "\u001b[2K     \u001b[90m━━━━━━━━━━━━━━━━━━━━━━━━━━━━━━━━━━━━━━━━\u001b[0m \u001b[32m115.3/115.3 kB\u001b[0m \u001b[31m13.5 MB/s\u001b[0m eta \u001b[36m0:00:00\u001b[0m\n",
            "\u001b[?25hRequirement already satisfied: xxhash in /usr/local/lib/python3.10/dist-packages (from datasets->lmqg) (3.4.1)\n",
            "Collecting multiprocess (from datasets->lmqg)\n",
            "  Downloading multiprocess-0.70.15-py310-none-any.whl (134 kB)\n",
            "\u001b[2K     \u001b[90m━━━━━━━━━━━━━━━━━━━━━━━━━━━━━━━━━━━━━━━━\u001b[0m \u001b[32m134.8/134.8 kB\u001b[0m \u001b[31m17.2 MB/s\u001b[0m eta \u001b[36m0:00:00\u001b[0m\n",
            "\u001b[?25hRequirement already satisfied: aiohttp in /usr/local/lib/python3.10/dist-packages (from datasets->lmqg) (3.9.1)\n",
            "Requirement already satisfied: charset-normalizer<4,>=2 in /usr/local/lib/python3.10/dist-packages (from requests->lmqg) (3.3.2)\n",
            "Requirement already satisfied: idna<4,>=2.5 in /usr/local/lib/python3.10/dist-packages (from requests->lmqg) (3.6)\n",
            "Requirement already satisfied: urllib3<3,>=1.21.1 in /usr/local/lib/python3.10/dist-packages (from requests->lmqg) (2.0.7)\n",
            "Requirement already satisfied: certifi>=2017.4.17 in /usr/local/lib/python3.10/dist-packages (from requests->lmqg) (2023.11.17)\n",
            "Collecting responses<0.19 (from evaluate->lmqg)\n",
            "  Downloading responses-0.18.0-py3-none-any.whl (38 kB)\n",
            "Requirement already satisfied: click in /usr/local/lib/python3.10/dist-packages (from nltk->lmqg) (8.1.7)\n",
            "Requirement already satisfied: joblib in /usr/local/lib/python3.10/dist-packages (from nltk->lmqg) (1.3.2)\n",
            "Requirement already satisfied: graphviz>=0.13 in /usr/local/lib/python3.10/dist-packages (from pytextrank->lmqg) (0.20.1)\n",
            "Collecting icecream>=2.1 (from pytextrank->lmqg)\n",
            "  Downloading icecream-2.1.3-py2.py3-none-any.whl (8.4 kB)\n",
            "Requirement already satisfied: pygments>=2.7.4 in /usr/local/lib/python3.10/dist-packages (from pytextrank->lmqg) (2.16.1)\n",
            "Requirement already satisfied: scipy>=1.7 in /usr/local/lib/python3.10/dist-packages (from pytextrank->lmqg) (1.11.4)\n",
            "Requirement already satisfied: spacy-legacy<3.1.0,>=3.0.11 in /usr/local/lib/python3.10/dist-packages (from spacy->lmqg) (3.0.12)\n",
            "Requirement already satisfied: spacy-loggers<2.0.0,>=1.0.0 in /usr/local/lib/python3.10/dist-packages (from spacy->lmqg) (1.0.5)\n",
            "Requirement already satisfied: murmurhash<1.1.0,>=0.28.0 in /usr/local/lib/python3.10/dist-packages (from spacy->lmqg) (1.0.10)\n",
            "Requirement already satisfied: cymem<2.1.0,>=2.0.2 in /usr/local/lib/python3.10/dist-packages (from spacy->lmqg) (2.0.8)\n",
            "Requirement already satisfied: preshed<3.1.0,>=3.0.2 in /usr/local/lib/python3.10/dist-packages (from spacy->lmqg) (3.0.9)\n",
            "Requirement already satisfied: thinc<8.2.0,>=8.1.8 in /usr/local/lib/python3.10/dist-packages (from spacy->lmqg) (8.1.12)\n",
            "Requirement already satisfied: wasabi<1.2.0,>=0.9.1 in /usr/local/lib/python3.10/dist-packages (from spacy->lmqg) (1.1.2)\n",
            "Requirement already satisfied: srsly<3.0.0,>=2.4.3 in /usr/local/lib/python3.10/dist-packages (from spacy->lmqg) (2.4.8)\n",
            "Requirement already satisfied: catalogue<2.1.0,>=2.0.6 in /usr/local/lib/python3.10/dist-packages (from spacy->lmqg) (2.0.10)\n",
            "Requirement already satisfied: typer<0.10.0,>=0.3.0 in /usr/local/lib/python3.10/dist-packages (from spacy->lmqg) (0.9.0)\n",
            "Requirement already satisfied: pathy>=0.10.0 in /usr/local/lib/python3.10/dist-packages (from spacy->lmqg) (0.11.0)\n",
            "Requirement already satisfied: smart-open<7.0.0,>=5.2.1 in /usr/local/lib/python3.10/dist-packages (from spacy->lmqg) (6.4.0)\n",
            "Requirement already satisfied: pydantic!=1.8,!=1.8.1,<3.0.0,>=1.7.4 in /usr/local/lib/python3.10/dist-packages (from spacy->lmqg) (1.10.13)\n",
            "Requirement already satisfied: setuptools in /usr/local/lib/python3.10/dist-packages (from spacy->lmqg) (67.7.2)\n",
            "Requirement already satisfied: langcodes<4.0.0,>=3.2.0 in /usr/local/lib/python3.10/dist-packages (from spacy->lmqg) (3.3.0)\n",
            "Requirement already satisfied: jsonschema in /usr/local/lib/python3.10/dist-packages (from ray->lmqg) (4.19.2)\n",
            "Requirement already satisfied: msgpack<2.0.0,>=1.0.0 in /usr/local/lib/python3.10/dist-packages (from ray->lmqg) (1.0.7)\n",
            "Requirement already satisfied: protobuf!=3.19.5,>=3.15.3 in /usr/local/lib/python3.10/dist-packages (from ray->lmqg) (3.20.3)\n",
            "Requirement already satisfied: aiosignal in /usr/local/lib/python3.10/dist-packages (from ray->lmqg) (1.3.1)\n",
            "Requirement already satisfied: frozenlist in /usr/local/lib/python3.10/dist-packages (from ray->lmqg) (1.4.1)\n",
            "Collecting tensorboardX>=1.9 (from ray->lmqg)\n",
            "  Downloading tensorboardX-2.6.2.2-py2.py3-none-any.whl (101 kB)\n",
            "\u001b[2K     \u001b[90m━━━━━━━━━━━━━━━━━━━━━━━━━━━━━━━━━━━━━━━━\u001b[0m \u001b[32m101.7/101.7 kB\u001b[0m \u001b[31m13.4 MB/s\u001b[0m eta \u001b[36m0:00:00\u001b[0m\n",
            "\u001b[?25hCollecting GitPython!=3.1.29,>=1.0.0 (from wandb->lmqg)\n",
            "  Downloading GitPython-3.1.41-py3-none-any.whl (196 kB)\n",
            "\u001b[2K     \u001b[90m━━━━━━━━━━━━━━━━━━━━━━━━━━━━━━━━━━━━━━━━\u001b[0m \u001b[32m196.4/196.4 kB\u001b[0m \u001b[31m22.9 MB/s\u001b[0m eta \u001b[36m0:00:00\u001b[0m\n",
            "\u001b[?25hCollecting sentry-sdk>=1.0.0 (from wandb->lmqg)\n",
            "  Downloading sentry_sdk-1.39.2-py2.py3-none-any.whl (254 kB)\n",
            "\u001b[2K     \u001b[90m━━━━━━━━━━━━━━━━━━━━━━━━━━━━━━━━━━━━━━━━\u001b[0m \u001b[32m254.1/254.1 kB\u001b[0m \u001b[31m28.2 MB/s\u001b[0m eta \u001b[36m0:00:00\u001b[0m\n",
            "\u001b[?25hCollecting docker-pycreds>=0.4.0 (from wandb->lmqg)\n",
            "  Downloading docker_pycreds-0.4.0-py2.py3-none-any.whl (9.0 kB)\n",
            "Collecting setproctitle (from wandb->lmqg)\n",
            "  Downloading setproctitle-1.3.3-cp310-cp310-manylinux_2_5_x86_64.manylinux1_x86_64.manylinux_2_17_x86_64.manylinux2014_x86_64.whl (30 kB)\n",
            "Requirement already satisfied: appdirs>=1.4.3 in /usr/local/lib/python3.10/dist-packages (from wandb->lmqg) (1.4.4)\n",
            "Requirement already satisfied: six>=1.4.0 in /usr/local/lib/python3.10/dist-packages (from docker-pycreds>=0.4.0->wandb->lmqg) (1.16.0)\n",
            "Requirement already satisfied: attrs>=17.3.0 in /usr/local/lib/python3.10/dist-packages (from aiohttp->datasets->lmqg) (23.2.0)\n",
            "Requirement already satisfied: multidict<7.0,>=4.5 in /usr/local/lib/python3.10/dist-packages (from aiohttp->datasets->lmqg) (6.0.4)\n",
            "Requirement already satisfied: yarl<2.0,>=1.0 in /usr/local/lib/python3.10/dist-packages (from aiohttp->datasets->lmqg) (1.9.4)\n",
            "Requirement already satisfied: async-timeout<5.0,>=4.0 in /usr/local/lib/python3.10/dist-packages (from aiohttp->datasets->lmqg) (4.0.3)\n",
            "Collecting gitdb<5,>=4.0.1 (from GitPython!=3.1.29,>=1.0.0->wandb->lmqg)\n",
            "  Downloading gitdb-4.0.11-py3-none-any.whl (62 kB)\n",
            "\u001b[2K     \u001b[90m━━━━━━━━━━━━━━━━━━━━━━━━━━━━━━━━━━━━━━━━\u001b[0m \u001b[32m62.7/62.7 kB\u001b[0m \u001b[31m8.4 MB/s\u001b[0m eta \u001b[36m0:00:00\u001b[0m\n",
            "\u001b[?25hCollecting colorama>=0.3.9 (from icecream>=2.1->pytextrank->lmqg)\n",
            "  Downloading colorama-0.4.6-py2.py3-none-any.whl (25 kB)\n",
            "Collecting executing>=0.3.1 (from icecream>=2.1->pytextrank->lmqg)\n",
            "  Downloading executing-2.0.1-py2.py3-none-any.whl (24 kB)\n",
            "Collecting asttokens>=2.0.1 (from icecream>=2.1->pytextrank->lmqg)\n",
            "  Downloading asttokens-2.4.1-py2.py3-none-any.whl (27 kB)\n",
            "Requirement already satisfied: contourpy>=1.0.1 in /usr/local/lib/python3.10/dist-packages (from matplotlib->bert-score->lmqg) (1.2.0)\n",
            "Requirement already satisfied: cycler>=0.10 in /usr/local/lib/python3.10/dist-packages (from matplotlib->bert-score->lmqg) (0.12.1)\n",
            "Requirement already satisfied: fonttools>=4.22.0 in /usr/local/lib/python3.10/dist-packages (from matplotlib->bert-score->lmqg) (4.47.2)\n",
            "Requirement already satisfied: kiwisolver>=1.0.1 in /usr/local/lib/python3.10/dist-packages (from matplotlib->bert-score->lmqg) (1.4.5)\n",
            "Requirement already satisfied: pillow>=6.2.0 in /usr/local/lib/python3.10/dist-packages (from matplotlib->bert-score->lmqg) (9.4.0)\n",
            "Requirement already satisfied: pyparsing>=2.3.1 in /usr/local/lib/python3.10/dist-packages (from matplotlib->bert-score->lmqg) (3.1.1)\n",
            "Requirement already satisfied: pathlib-abc==0.1.1 in /usr/local/lib/python3.10/dist-packages (from pathy>=0.10.0->spacy->lmqg) (0.1.1)\n",
            "Requirement already satisfied: blis<0.8.0,>=0.7.8 in /usr/local/lib/python3.10/dist-packages (from thinc<8.2.0,>=8.1.8->spacy->lmqg) (0.7.11)\n",
            "Requirement already satisfied: confection<1.0.0,>=0.0.1 in /usr/local/lib/python3.10/dist-packages (from thinc<8.2.0,>=8.1.8->spacy->lmqg) (0.1.4)\n",
            "Requirement already satisfied: MarkupSafe>=2.0 in /usr/local/lib/python3.10/dist-packages (from jinja2->torch->lmqg) (2.1.3)\n",
            "Requirement already satisfied: jsonschema-specifications>=2023.03.6 in /usr/local/lib/python3.10/dist-packages (from jsonschema->ray->lmqg) (2023.12.1)\n",
            "Requirement already satisfied: referencing>=0.28.4 in /usr/local/lib/python3.10/dist-packages (from jsonschema->ray->lmqg) (0.32.1)\n",
            "Requirement already satisfied: rpds-py>=0.7.1 in /usr/local/lib/python3.10/dist-packages (from jsonschema->ray->lmqg) (0.17.1)\n",
            "Requirement already satisfied: mpmath>=0.19 in /usr/local/lib/python3.10/dist-packages (from sympy->torch->lmqg) (1.3.0)\n",
            "Collecting smmap<6,>=3.0.1 (from gitdb<5,>=4.0.1->GitPython!=3.1.29,>=1.0.0->wandb->lmqg)\n",
            "  Downloading smmap-5.0.1-py3-none-any.whl (24 kB)\n",
            "Building wheels for collected packages: lmqg\n",
            "  Building wheel for lmqg (setup.py) ... \u001b[?25l\u001b[?25hdone\n",
            "  Created wheel for lmqg: filename=lmqg-0.1.1-py3-none-any.whl size=111575 sha256=9de581fe9aea50b4e3ec4e697a4993ad6a9be201489086251e090ef4e8800982\n",
            "  Stored in directory: /root/.cache/pip/wheels/a6/b1/8d/5ad3d68cf09f7d87bca431d42c429798096291744b0bd80f2d\n",
            "Successfully built lmqg\n",
            "Installing collected packages: sudachipy, sentencepiece, tensorboardX, sudachidict_core, smmap, setproctitle, sentry-sdk, pyemd, executing, docker-pycreds, dill, colorama, asttokens, responses, multiprocess, icecream, gitdb, GitPython, accelerate, wandb, ray, datasets, pytextrank, evaluate, bert-score, lmqg\n",
            "Successfully installed GitPython-3.1.41 accelerate-0.26.1 asttokens-2.4.1 bert-score-0.3.13 colorama-0.4.6 datasets-2.16.1 dill-0.3.7 docker-pycreds-0.4.0 evaluate-0.4.1 executing-2.0.1 gitdb-4.0.11 icecream-2.1.3 lmqg-0.1.1 multiprocess-0.70.15 pyemd-1.0.0 pytextrank-3.2.5 ray-2.9.1 responses-0.18.0 sentencepiece-0.1.99 sentry-sdk-1.39.2 setproctitle-1.3.3 smmap-5.0.1 sudachidict_core-20240109 sudachipy-0.6.8 tensorboardX-2.6.2.2 wandb-0.16.2\n"
          ]
        }
      ]
    },
    {
      "cell_type": "code",
      "execution_count": 12,
      "metadata": {
        "id": "bDOYszxyTxjo"
      },
      "outputs": [],
      "source": [
        "from pprint import pprint\n",
        "from lmqg import TransformersQG\n"
      ]
    },
    {
      "cell_type": "code",
      "source": [
        "# model = TransformersQG(model='lmqg/t5-base-squad-qg')\n",
        "# model = TransformersQG(model='lmqg/t5-base-squad-qg-ae')\n",
        "# model = TransformersQG(language=\"en\")\n",
        "model = TransformersQG(model='lmqg/t5-base-squad-qg', model_ae='lmqg/t5-base-squad-ae')\n"
      ],
      "metadata": {
        "colab": {
          "base_uri": "https://localhost:8080/"
        },
        "id": "a-SP_WBAT1vs",
        "outputId": "2003f0da-e93f-4dd3-c066-b98773363a0f"
      },
      "execution_count": 30,
      "outputs": [
        {
          "output_type": "stream",
          "name": "stderr",
          "text": [
            "/usr/local/lib/python3.10/dist-packages/transformers/models/auto/tokenization_auto.py:671: FutureWarning: The `use_auth_token` argument is deprecated and will be removed in v5 of Transformers. Please use `token` instead.\n",
            "  warnings.warn(\n",
            "/usr/local/lib/python3.10/dist-packages/transformers/models/auto/configuration_auto.py:1033: FutureWarning: The `use_auth_token` argument is deprecated and will be removed in v5 of Transformers. Please use `token` instead.\n",
            "  warnings.warn(\n",
            "/usr/local/lib/python3.10/dist-packages/transformers/modeling_utils.py:2570: FutureWarning: The `use_auth_token` argument is deprecated and will be removed in v5 of Transformers. Please use `token` instead.\n",
            "  warnings.warn(\n",
            "/usr/local/lib/python3.10/dist-packages/transformers/utils/hub.py:374: FutureWarning: The `use_auth_token` argument is deprecated and will be removed in v5 of Transformers. Please use `token` instead.\n",
            "  warnings.warn(\n"
          ]
        }
      ]
    },
    {
      "cell_type": "code",
      "source": [
        "context1 = \"Father Conceicao Rodrigues Institute of Technology (FCRIT) is a private engineering college affiliated to the University of Mumbai located in Vashi, Navi Mumbai.\" \\\n",
        "\"The institute offers the B.E degree courses in Computer Engineering, Electrical Engineering, Mechanical Engineering, Electronics and Telecommunication Engineering and Information Technology.\" \\\n",
        "\"FCRIT is a private, un-aided, minority, non-autonomous institute affiliated to the University of Mumbai.\" \\\n",
        "\"It offers a four-year baccalaureate course culminating in the B.E. degree conferred by the university.\"  \\\n",
        "\"The institute has been graded A by the Directorate of Technical Education, Government of Maharashtra State.\"  \\\n",
        "\"It is recognised by the AICTE and has received accreditation from the National Board of Accreditation(NBA), New Delhi.\" \\\n",
        "\"FCRIT was established in 1994 as a part of the Agnel Technical Education Complex at Vashi, which itself was established in 1984.\"  \\\n",
        "\"The institute is named after late Rev. Fr. Conceicao Rodrigues, who died in odour of sanctity.\"\n",
        "\n",
        "context2 = \"The admission process is highly competitive and is undertaken as per the directives of the Directorate of Technical Education(DTE), Maharashtra State.\" \\\n",
        "\"For admission to the FCRIT, prospective candidates from the native state of Maharashtra need to pass their Higher Secondary (School) Certificate / Standard XII examination of the Maharashtra State Board of Secondary and Higher Secondary Education or its equivalent from CBSE or CISCE.\" \\\n",
        "\"All prospective candidates need to have had the subjects of English, Physics, Chemistry and Mathematics in their curriculum and should have obtained a minimum of 50% marks in the Science subjects (Physics, Chemistry) and Mathematics added together.\" \\\n",
        "\"Prospective candidates from outside the state of Maharashtra can also apply provided they satisfy the required eligibility criteria.\" \\\n",
        "\"Prospective students need to take the Maharashtra Engineering Common Entrance Test or MAH-EN-CET.\" \\\n",
        "\"The MAH-EN-CET consists of only one common exam that is divided into 3 sections - physics, chemistry and mathematics with 50 multiple choice questions in each.\" \\\n",
        "\"The total score in these sections taken together decides the merit list for the exam in a given year.\"  \\\n",
        "\"The syllabus for preparing for the MAH-EN-CET is the same as the Physics, Chemistry and Mathematics syllabus prescribed by the Maharashtra State Board of Secondary and Higher Secondary Education for the Higher Secondary (School) Certificate / Standard XII examination conducted in the current academic year.\"\n",
        "\n",
        "\n",
        "context3 = \"This merit list is used as a differentiating factor for admissions to FCRIT.\" \\\n",
        "\"The All India Engineering Entrance Examination or AIEEE held by Central Board of Secondary Education (CBSE) under guidance of the Ministry of Human Resource Development (India) is also accepted as an alternative.\" \\\n",
        "\"The placement program starts in the month of June or July every year and students who have completed three years of the four-year course are eligible to register.\"  \\\n",
        "\"The program spans more than a year and runs through the final year of the course for a batch of students.\" \\\n",
        "\"The institute claims to have a nearly 100% conversion ratio of eligible students to company offers.\"  \\\n",
        "\"The placement activities are looked after by faculty placement officers and student coordinators.\"  \\\n",
        "\"The central placement cell is located in the administrative block, south of the reception.\" \\\n",
        "\"A list of recent recruiters is also available on the institute's website.\"\n",
        "\n",
        "contexts = [context1, context2, context3]"
      ],
      "metadata": {
        "id": "X9tlD6ifT13T"
      },
      "execution_count": 31,
      "outputs": []
    },
    {
      "cell_type": "code",
      "source": [
        "# context1 = \"Father Conceicao Rodrigues Institute of Technology (FCRIT) is a private engineering college affiliated to the University of Mumbai located in Vashi, Navi Mumbai. The institute offers the B.E degree courses in Computer Engineering, Electrical Engineering, Mechanical Engineering, Electronics and Telecommunication Engineering and Information Technology. FCRIT is a private, un-aided, minority, non-autonomous institute affiliated to the University of Mumbai. It offers a four-year baccalaureate course culminating in the B.E. degree conferred by the university. The institute has been graded A by the Directorate of Technical Education, Government of Maharashtra State. It is recognised by the AICTE and has received accreditation from the National Board of Accreditation(NBA), New Delhi.\"\n",
        "\n",
        "# context2 = \"FCRIT was established in 1994 as a part of the Agnel Technical Education Complex at Vashi, which itself was established in 1984. The institute is named after late Rev. Fr. Conceicao Rodrigues, who died in odour of sanctity. The admission process is highly competitive and is undertaken as per the directives of the Directorate of Technical Education(DTE), Maharashtra State. For admission to the FCRIT, prospective candidates from the native state of Maharashtra need to pass their Higher Secondary (School) Certificate / Standard XII examination of the Maharashtra State Board of Secondary and Higher Secondary Education or its equivalent from CBSE or CISCE. All prospective candidates need to have had the subjects of English, Physics, Chemistry and Mathematics in their curriculum and should have obtained a minimum of 50% marks in the Science subjects (Physics, Chemistry) and Mathematics added together. Prospective candidates from outside the state of Maharashtra can also apply provided they satisfy the required eligibility criteria. Prospective students need to take the Maharashtra Engineering Common Entrance Test or MAH-EN-CET. The MAH-EN-CET consists of only one common exam that is divided into 3 sections - physics, chemistry and mathematics with 50 multiple choice questions in each. The total score in these sections taken together decides the merit list for the exam in a given year.\"\n",
        "\n",
        "# context3 = \"The syllabus for preparing for the MAH-EN-CET is the same as the Physics, Chemistry and Mathematics syllabus prescribed by the Maharashtra State Board of Secondary and Higher Secondary Education for the Higher Secondary (School) Certificate / Standard XII examination conducted in the current academic year. This merit list is used as a differentiating factor for admissions to FCRIT. The All India Engineering Entrance Examination or AIEEE held by Central Board of Secondary Education (CBSE) under guidance of the Ministry of Human Resource Development (India) is also accepted as an alternative. The placement program starts in the month of June or July every year and students who have completed three years of the four-year course are eligible to register. The program spans more than a year and runs through the final year of the course for a batch of students. The institute claims to have a nearly 100% conversion ratio of eligible students to company offers. The placement activities are looked after by faculty placement officers and student coordinators. The central placement cell is located in the administrative block, south of the reception. A list of recent recruiters is also available on the institute's website.\"\n",
        "\n",
        "# contexts = [context1, context2, context3]"
      ],
      "metadata": {
        "id": "-sL-ajfMgDbY"
      },
      "execution_count": null,
      "outputs": []
    },
    {
      "cell_type": "code",
      "source": [
        "question_answers = []\n",
        "\n",
        "for context in contexts:\n",
        "  pairs = model.generate_qa(context)\n",
        "  for pair in pairs:\n",
        "    question_answers.append(pair)\n",
        "\n",
        "\n",
        "print(question_answers)"
      ],
      "metadata": {
        "colab": {
          "base_uri": "https://localhost:8080/"
        },
        "id": "mt7LoWdoT163",
        "outputId": "6fd8a21e-1bcf-4ff2-a39c-a66b3b73647e"
      },
      "execution_count": 32,
      "outputs": [
        {
          "output_type": "stream",
          "name": "stderr",
          "text": [
            "100%|██████████| 8/8 [00:00<00:00, 130.23it/s]\n",
            "100%|██████████| 8/8 [00:00<00:00, 487.89it/s]\n",
            "100%|██████████| 7/7 [00:00<00:00, 426.70it/s]\n",
            "100%|██████████| 7/7 [00:00<00:00, 381.65it/s]\n",
            "100%|██████████| 7/7 [00:00<00:00, 414.38it/s]\n",
            "100%|██████████| 7/7 [00:00<00:00, 506.74it/s]\n"
          ]
        },
        {
          "output_type": "stream",
          "name": "stdout",
          "text": [
            "[('What is the name of the private engineering college affiliated to the University of Mumbai?', 'Father Conceicao Rodrigues Institute of Technology'), ('What degree does the Father Conceicao Rodrigues Institute of Technology offer?', 'B.E'), ('What type of institution is the Father Conceicao Rodrigues Institute of Technology?', 'non-autonomous'), ('How long is the baccalaureate course at the Father Conceicao Rodrigues Institute of Technology?', 'four-year'), ('What is the grade of the Father Conceicao Rodrigues Institute of Technology?', 'A'), ('What does NBA stand for?', 'National Board of Accreditation'), ('When was the Father Conceicao Rodrigues Institute of Technology established?', '1994'), ('Why did Fr. Conceicao Rodrigues die?', 'odour of sanctity.'), ('What is the admission process of the FCRIT?', 'highly competitive'), ('What percentage of marks should prospective candidates have in the Science subjects?', '50%'), ('Who can apply to the FCRIT if they satisfy the required eligibility criteria?', 'outside the state of Maharashtra'), ('What are the three sections of the MAH-EN-CET?', 'physics, chemistry and mathematics'), ('What determines the merit list for the MAH-EN-CET?', 'The total score'), ('What is the syllabus for preparing for the MAH-EN-CET?', 'same as the Physics, Chemistry and Mathematics syllabus prescribed by the Maharashtra State Board of Secondary and Higher Secondary Education'), ('What examination do prospective candidates need to pass for admission to FCRIT from the native state of Maharashtra?', 'Standard XII'), ('What is used as a differentiating factor for admissions to FCRIT?', 'merit list'), (\"When does FCRIT's placement program begin?\", 'June or July'), ('How long does the placement program last?', 'more than a year'), ('What is the conversion ratio of eligible students to company offers at FCRIT?', '100%'), ('Who oversees the placement of students at FCRIT?', 'faculty placement officers'), ('What is located in the administrative block, south of the reception?', 'central placement cell'), (\"What is also available on the institute's website?\", 'recent recruiters')]\n"
          ]
        }
      ]
    },
    {
      "cell_type": "code",
      "source": [
        "pprint(question_answers)"
      ],
      "metadata": {
        "colab": {
          "base_uri": "https://localhost:8080/"
        },
        "id": "erNyR-1qUWtF",
        "outputId": "40159e8f-937d-4622-94eb-97fbf7eebb65"
      },
      "execution_count": 33,
      "outputs": [
        {
          "output_type": "stream",
          "name": "stdout",
          "text": [
            "[('What is the name of the private engineering college affiliated to the '\n",
            "  'University of Mumbai?',\n",
            "  'Father Conceicao Rodrigues Institute of Technology'),\n",
            " ('What degree does the Father Conceicao Rodrigues Institute of Technology '\n",
            "  'offer?',\n",
            "  'B.E'),\n",
            " ('What type of institution is the Father Conceicao Rodrigues Institute of '\n",
            "  'Technology?',\n",
            "  'non-autonomous'),\n",
            " ('How long is the baccalaureate course at the Father Conceicao Rodrigues '\n",
            "  'Institute of Technology?',\n",
            "  'four-year'),\n",
            " ('What is the grade of the Father Conceicao Rodrigues Institute of '\n",
            "  'Technology?',\n",
            "  'A'),\n",
            " ('What does NBA stand for?', 'National Board of Accreditation'),\n",
            " ('When was the Father Conceicao Rodrigues Institute of Technology '\n",
            "  'established?',\n",
            "  '1994'),\n",
            " ('Why did Fr. Conceicao Rodrigues die?', 'odour of sanctity.'),\n",
            " ('What is the admission process of the FCRIT?', 'highly competitive'),\n",
            " ('What percentage of marks should prospective candidates have in the Science '\n",
            "  'subjects?',\n",
            "  '50%'),\n",
            " ('Who can apply to the FCRIT if they satisfy the required eligibility '\n",
            "  'criteria?',\n",
            "  'outside the state of Maharashtra'),\n",
            " ('What are the three sections of the MAH-EN-CET?',\n",
            "  'physics, chemistry and mathematics'),\n",
            " ('What determines the merit list for the MAH-EN-CET?', 'The total score'),\n",
            " ('What is the syllabus for preparing for the MAH-EN-CET?',\n",
            "  'same as the Physics, Chemistry and Mathematics syllabus prescribed by the '\n",
            "  'Maharashtra State Board of Secondary and Higher Secondary Education'),\n",
            " ('What examination do prospective candidates need to pass for admission to '\n",
            "  'FCRIT from the native state of Maharashtra?',\n",
            "  'Standard XII'),\n",
            " ('What is used as a differentiating factor for admissions to FCRIT?',\n",
            "  'merit list'),\n",
            " (\"When does FCRIT's placement program begin?\", 'June or July'),\n",
            " ('How long does the placement program last?', 'more than a year'),\n",
            " ('What is the conversion ratio of eligible students to company offers at '\n",
            "  'FCRIT?',\n",
            "  '100%'),\n",
            " ('Who oversees the placement of students at FCRIT?',\n",
            "  'faculty placement officers'),\n",
            " ('What is located in the administrative block, south of the reception?',\n",
            "  'central placement cell'),\n",
            " (\"What is also available on the institute's website?\", 'recent recruiters')]\n"
          ]
        }
      ]
    },
    {
      "cell_type": "code",
      "source": [
        "print(len(question_answers))"
      ],
      "metadata": {
        "colab": {
          "base_uri": "https://localhost:8080/"
        },
        "id": "4RUWswahavpL",
        "outputId": "0861d932-103f-41ee-a095-1b676007c4a6"
      },
      "execution_count": 34,
      "outputs": [
        {
          "output_type": "stream",
          "name": "stdout",
          "text": [
            "22\n"
          ]
        }
      ]
    },
    {
      "cell_type": "code",
      "source": [],
      "metadata": {
        "id": "hvFcCHRXhHqh"
      },
      "execution_count": null,
      "outputs": []
    },
    {
      "cell_type": "code",
      "source": [],
      "metadata": {
        "id": "vs1-PcLmhHsw"
      },
      "execution_count": null,
      "outputs": []
    },
    {
      "cell_type": "code",
      "source": [],
      "metadata": {
        "id": "-TGGN0V4hHvS"
      },
      "execution_count": null,
      "outputs": []
    },
    {
      "cell_type": "code",
      "source": [],
      "metadata": {
        "id": "shQqapGhcQcU"
      },
      "execution_count": null,
      "outputs": []
    },
    {
      "cell_type": "code",
      "source": [],
      "metadata": {
        "id": "2D2mSgm3cQhy"
      },
      "execution_count": null,
      "outputs": []
    }
  ]
}