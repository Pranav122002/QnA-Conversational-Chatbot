{
 "cells": [
  {
   "cell_type": "code",
   "execution_count": 2,
   "metadata": {},
   "outputs": [],
   "source": [
    "from transformers import pipeline"
   ]
  },
  {
   "cell_type": "code",
   "execution_count": 3,
   "metadata": {},
   "outputs": [
    {
     "name": "stderr",
     "output_type": "stream",
     "text": [
      "No model was supplied, defaulted to distilbert-base-cased-distilled-squad and revision 626af31 (https://huggingface.co/distilbert-base-cased-distilled-squad).\n",
      "Using a pipeline without specifying a model name and revision in production is not recommended.\n"
     ]
    }
   ],
   "source": [
    "qa_pipeline = pipeline(\"question-answering\")"
   ]
  },
  {
   "cell_type": "code",
   "execution_count": 4,
   "metadata": {},
   "outputs": [],
   "source": [
    "dataset = r'Father Conceicao Rodrigues Institute of Technology (FCRIT) is a private engineering college affiliated to the University of Mumbai located in Vashi, Navi Mumbai.  The institute offers the B.E degree courses in Computer Engineering, Electrical Engineering, Mechanical Engineering, Electronics and Telecommunication Engineering and Information Technology.  FCRIT is a private, un-aided, minority, non-autonomous institute affiliated to the University of Mumbai.  It offers a four-year baccalaureate course culminating in the B.E. degree conferred by the university. The institute has been graded A by the Directorate of Technical Education, Government of Maharashtra State. It is recognised by the AICTE and has received accreditation from the National Board of Accreditation(NBA), New Delhi.  FCRIT was established in 1994 as a part of the Agnel Technical Education Complex at Vashi, which itself was established in 1984. The institute is named after late Rev. Fr. Conceicao Rodrigues, who died in odour of sanctity.  The admission process is highly competitive and is undertaken as per the directives of the Directorate of Technical Education(DTE), Maharashtra State.  For admission to the FCRIT, prospective candidates from the native state of Maharashtra need to pass their Higher Secondary (School) Certificate / Standard XII examination of the Maharashtra State Board of Secondary and Higher Secondary Education or its equivalent from CBSE or CISCE.  All prospective candidates need to have had the subjects of English, Physics, Chemistry and Mathematics in their curriculum and should have obtained a minimum of 50% marks in the Science subjects (Physics, Chemistry) and Mathematics added together. Prospective candidates from outside the state of Maharashtra can also apply provided they satisfy the required eligibility criteria. Lata Ragha is female. She is HOD of college.'"
   ]
  },
  {
   "cell_type": "code",
   "execution_count": 5,
   "metadata": {},
   "outputs": [
    {
     "name": "stdout",
     "output_type": "stream",
     "text": [
      "What is gender of Lata Ragha?\n",
      "female\n",
      " \n",
      "She is who?\n",
      "HOD of college\n",
      " \n",
      "Who is HOD of college ?\n",
      "Lata Ragha\n",
      " \n",
      "What is behaviour of Lata?\n",
      "female\n",
      " \n",
      "Who is Rahul?\n",
      "female\n",
      " \n"
     ]
    }
   ],
   "source": [
    "questions = [\"What is gender of Lata Ragha?\", \"She is who?\", \"Who is HOD of college ?\", \"What is behaviour of Lata?\",\"Who is Rahul?\" ]\n",
    "\n",
    "for question in questions:\n",
    "\n",
    "    answer = qa_pipeline(question=question, context=dataset)\n",
    "\n",
    "    print(question)\n",
    "    print(answer['answer'])\n",
    "    print(\" \")\n",
    "\n",
    "\n",
    "\n"
   ]
  }
 ],
 "metadata": {
  "kernelspec": {
   "display_name": "Python 3",
   "language": "python",
   "name": "python3"
  },
  "language_info": {
   "codemirror_mode": {
    "name": "ipython",
    "version": 3
   },
   "file_extension": ".py",
   "mimetype": "text/x-python",
   "name": "python",
   "nbconvert_exporter": "python",
   "pygments_lexer": "ipython3",
   "version": "3.10.11"
  }
 },
 "nbformat": 4,
 "nbformat_minor": 2
}
