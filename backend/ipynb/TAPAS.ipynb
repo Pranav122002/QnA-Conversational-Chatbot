{
  "cells": [
    {
      "cell_type": "markdown",
      "metadata": {
        "id": "Ef2ZIVGoPA0-"
      },
      "source": [
        "# Table Question Answering"
      ]
    },
    {
      "cell_type": "code",
      "execution_count": 1,
      "metadata": {
        "colab": {
          "base_uri": "https://localhost:8080/"
        },
        "id": "_OWeLIdGbMeA",
        "outputId": "e8fa56b2-395f-491e-81d0-9b6cff1d8ae8"
      },
      "outputs": [
        {
          "name": "stdout",
          "output_type": "stream",
          "text": [
            "Requirement already satisfied: transformers in c:\\users\\prana\\appdata\\roaming\\python\\python310\\site-packages (4.34.0)\n",
            "Requirement already satisfied: tokenizers<0.15,>=0.14 in c:\\users\\prana\\appdata\\local\\programs\\python\\python310\\lib\\site-packages (from transformers) (0.14.0)\n",
            "Requirement already satisfied: safetensors>=0.3.1 in c:\\users\\prana\\appdata\\local\\programs\\python\\python310\\lib\\site-packages (from transformers) (0.3.3)\n",
            "Requirement already satisfied: numpy>=1.17 in c:\\users\\prana\\appdata\\local\\programs\\python\\python310\\lib\\site-packages (from transformers) (1.26.0)\n",
            "Requirement already satisfied: packaging>=20.0 in c:\\users\\prana\\appdata\\roaming\\python\\python310\\site-packages (from transformers) (23.1)\n",
            "Requirement already satisfied: pyyaml>=5.1 in c:\\users\\prana\\appdata\\local\\programs\\python\\python310\\lib\\site-packages (from transformers) (6.0.1)\n",
            "Requirement already satisfied: requests in c:\\users\\prana\\appdata\\local\\programs\\python\\python310\\lib\\site-packages (from transformers) (2.31.0)\n",
            "Requirement already satisfied: tqdm>=4.27 in c:\\users\\prana\\appdata\\local\\programs\\python\\python310\\lib\\site-packages (from transformers) (4.66.1)\n",
            "Requirement already satisfied: filelock in c:\\users\\prana\\appdata\\local\\programs\\python\\python310\\lib\\site-packages (from transformers) (3.12.4)\n",
            "Requirement already satisfied: huggingface-hub<1.0,>=0.16.4 in c:\\users\\prana\\appdata\\local\\programs\\python\\python310\\lib\\site-packages (from transformers) (0.16.4)\n",
            "Requirement already satisfied: regex!=2019.12.17 in c:\\users\\prana\\appdata\\local\\programs\\python\\python310\\lib\\site-packages (from transformers) (2023.8.8)\n",
            "Requirement already satisfied: fsspec in c:\\users\\prana\\appdata\\local\\programs\\python\\python310\\lib\\site-packages (from huggingface-hub<1.0,>=0.16.4->transformers) (2023.6.0)\n",
            "Requirement already satisfied: typing-extensions>=3.7.4.3 in c:\\users\\prana\\appdata\\local\\programs\\python\\python310\\lib\\site-packages (from huggingface-hub<1.0,>=0.16.4->transformers) (4.8.0)\n",
            "Requirement already satisfied: colorama in c:\\users\\prana\\appdata\\roaming\\python\\python310\\site-packages (from tqdm>=4.27->transformers) (0.4.6)\n",
            "Requirement already satisfied: charset-normalizer<4,>=2 in c:\\users\\prana\\appdata\\local\\programs\\python\\python310\\lib\\site-packages (from requests->transformers) (3.2.0)\n",
            "Requirement already satisfied: certifi>=2017.4.17 in c:\\users\\prana\\appdata\\local\\programs\\python\\python310\\lib\\site-packages (from requests->transformers) (2023.7.22)\n",
            "Requirement already satisfied: urllib3<3,>=1.21.1 in c:\\users\\prana\\appdata\\local\\programs\\python\\python310\\lib\\site-packages (from requests->transformers) (2.0.5)\n",
            "Requirement already satisfied: idna<4,>=2.5 in c:\\users\\prana\\appdata\\local\\programs\\python\\python310\\lib\\site-packages (from requests->transformers) (3.4)\n"
          ]
        },
        {
          "name": "stderr",
          "output_type": "stream",
          "text": [
            "\n",
            "[notice] A new release of pip is available: 23.0.1 -> 24.0\n",
            "[notice] To update, run: python.exe -m pip install --upgrade pip\n"
          ]
        }
      ],
      "source": [
        "!pip install transformers"
      ]
    },
    {
      "cell_type": "code",
      "execution_count": 2,
      "metadata": {
        "id": "U8l1ZSv_KqQB"
      },
      "outputs": [],
      "source": [
        "from transformers import AutoModelForTableQuestionAnswering, AutoTokenizer, pipeline\n",
        "import pandas as pd"
      ]
    },
    {
      "cell_type": "markdown",
      "metadata": {
        "id": "8D6E0Qe9b7Yd"
      },
      "source": [
        "For this we will use sample data file from Ookla which shows fastest ISPs by city in 2017.\n",
        "Source : https://www.lifehacker.com.au/2017/11/revealed-the-fastest-isps-in-each-australian-city/"
      ]
    },
    {
      "cell_type": "code",
      "execution_count": null,
      "metadata": {
        "colab": {
          "base_uri": "https://localhost:8080/"
        },
        "id": "-g0kZUZGZttw",
        "outputId": "6da63bed-f2ec-4cc7-a6ce-9ecae9be5aa2"
      },
      "outputs": [],
      "source": [
        "# Downloading data\n",
        "\n",
        "!wget --no-check-certificate 'https://docs.google.com/uc?export=download&id=1TxyQU9v16GfLz10NvnyJZhgVwECxmyqe' -O 'data_ISP.csv'\n"
      ]
    },
    {
      "cell_type": "code",
      "execution_count": 3,
      "metadata": {},
      "outputs": [
        {
          "data": {
            "text/html": [
              "<div>\n",
              "<style scoped>\n",
              "    .dataframe tbody tr th:only-of-type {\n",
              "        vertical-align: middle;\n",
              "    }\n",
              "\n",
              "    .dataframe tbody tr th {\n",
              "        vertical-align: top;\n",
              "    }\n",
              "\n",
              "    .dataframe thead th {\n",
              "        text-align: right;\n",
              "    }\n",
              "</style>\n",
              "<table border=\"1\" class=\"dataframe\">\n",
              "  <thead>\n",
              "    <tr style=\"text-align: right;\">\n",
              "      <th></th>\n",
              "      <th>Company</th>\n",
              "      <th>Number of Students placed</th>\n",
              "      <th>Package</th>\n",
              "    </tr>\n",
              "  </thead>\n",
              "  <tbody>\n",
              "    <tr>\n",
              "      <th>0</th>\n",
              "      <td>TCS</td>\n",
              "      <td>20</td>\n",
              "      <td>10.74</td>\n",
              "    </tr>\n",
              "    <tr>\n",
              "      <th>1</th>\n",
              "      <td>Barclays</td>\n",
              "      <td>6</td>\n",
              "      <td>23.56</td>\n",
              "    </tr>\n",
              "    <tr>\n",
              "      <th>2</th>\n",
              "      <td>Infosys</td>\n",
              "      <td>15</td>\n",
              "      <td>14.12</td>\n",
              "    </tr>\n",
              "    <tr>\n",
              "      <th>3</th>\n",
              "      <td>LTI</td>\n",
              "      <td>7</td>\n",
              "      <td>13.89</td>\n",
              "    </tr>\n",
              "    <tr>\n",
              "      <th>4</th>\n",
              "      <td>Jio</td>\n",
              "      <td>9</td>\n",
              "      <td>22.15</td>\n",
              "    </tr>\n",
              "    <tr>\n",
              "      <th>5</th>\n",
              "      <td>Seclore</td>\n",
              "      <td>2</td>\n",
              "      <td>9.07</td>\n",
              "    </tr>\n",
              "    <tr>\n",
              "      <th>6</th>\n",
              "      <td>Zeus</td>\n",
              "      <td>3</td>\n",
              "      <td>11.74</td>\n",
              "    </tr>\n",
              "    <tr>\n",
              "      <th>7</th>\n",
              "      <td>Aurion</td>\n",
              "      <td>10</td>\n",
              "      <td>20.58</td>\n",
              "    </tr>\n",
              "    <tr>\n",
              "      <th>8</th>\n",
              "      <td>Amazon</td>\n",
              "      <td>5</td>\n",
              "      <td>23.56</td>\n",
              "    </tr>\n",
              "  </tbody>\n",
              "</table>\n",
              "</div>"
            ],
            "text/plain": [
              "    Company  Number of Students placed  Package\n",
              "0       TCS                         20    10.74\n",
              "1  Barclays                          6    23.56\n",
              "2   Infosys                         15    14.12\n",
              "3       LTI                          7    13.89\n",
              "4       Jio                          9    22.15\n",
              "5   Seclore                          2     9.07\n",
              "6      Zeus                          3    11.74\n",
              "7    Aurion                         10    20.58\n",
              "8    Amazon                          5    23.56"
            ]
          },
          "execution_count": 3,
          "metadata": {},
          "output_type": "execute_result"
        }
      ],
      "source": [
        "data = pd.read_csv(r\"../datasets/FCRIT.csv\")\n",
        "data"
      ]
    },
    {
      "cell_type": "code",
      "execution_count": 4,
      "metadata": {
        "id": "23v6CLzLcenP"
      },
      "outputs": [],
      "source": [
        "data = data.astype(str)"
      ]
    },
    {
      "cell_type": "code",
      "execution_count": 5,
      "metadata": {
        "id": "0nl6qdBrNLom"
      },
      "outputs": [],
      "source": [
        "model = 'google/tapas-large-finetuned-sqa'\n",
        "#model = 'google/tapas-large-finetuned-wtq'\n",
        "tapas_model = AutoModelForTableQuestionAnswering.from_pretrained(model)\n",
        "tapas_tokenizer = AutoTokenizer.from_pretrained(model)\n",
        "\n",
        "nlp = pipeline('table-question-answering', model=tapas_model, tokenizer=tapas_tokenizer)\n",
        "\n",
        "\n",
        "def qa(query,data):\n",
        "    print(f\"Question: {query}\")\n",
        "    result = nlp({'table': data,'query':query})\n",
        "    answer = result['cells']\n",
        "    print(f\"Answer: {answer}\\n\")\n"
      ]
    },
    {
      "cell_type": "code",
      "execution_count": 8,
      "metadata": {
        "colab": {
          "base_uri": "https://localhost:8080/"
        },
        "id": "M7ynXil55CKW",
        "outputId": "c7432562-f79e-4fda-b346-5d40e7a65801"
      },
      "outputs": [
        {
          "name": "stdout",
          "output_type": "stream",
          "text": [
            "Question: How many students are placed in TCS\n",
            "Answer: ['20']\n",
            "\n"
          ]
        }
      ],
      "source": [
        "prediction = qa('How many students are placed in TCS',data)"
      ]
    },
    {
      "cell_type": "code",
      "execution_count": 9,
      "metadata": {},
      "outputs": [],
      "source": [
        "queries = [\n",
        "    \"How many students are placed in TCS?\",\n",
        "    \"What is package of students placed in TCS?\",\n",
        "    \"What is package of TCS?\",\n",
        "    \"Which company gives highest package?\",\n",
        "    \"Which company gives lowest package?\",\n",
        "    \"Which company has highest number of students placed?\",\n",
        "    \"Which company has lowest number of students placed?\",\n",
        "    \"Which company has least number of students placed?\",\n",
        "    \"Which companies have package as 23.56?\",\n",
        "    \"Which companies have same package?\",\n",
        "    \"WWhat are packages of TCS and Jio?\",\n",
        "    \"What is sum of all packages?\",\n",
        "    \"What is average of all packages?\",\n",
        "    \"What is count of all packages?\",\n",
        "    \"What is total of package of TCS and Jio?\",\n",
        "    \"Who has lesser package than Infosys?\",\n",
        "    \"Who has greater package than Jio?\",\n",
        "    \"What is highest of all packages?\",\n",
        "    \"What is maximum package?\",\n",
        "    \"What is lowest package?\",\n",
        "    \"What is minimum package?\",\n",
        "]"
      ]
    },
    {
      "cell_type": "code",
      "execution_count": 10,
      "metadata": {},
      "outputs": [
        {
          "name": "stdout",
          "output_type": "stream",
          "text": [
            "Question: How many students are placed in TCS?\n",
            "Answer: ['20']\n",
            "\n",
            "Question: What is package of students placed in TCS?\n",
            "Answer: ['10.74']\n",
            "\n",
            "Question: What is package of TCS?\n",
            "Answer: ['10.74']\n",
            "\n",
            "Question: Which company gives highest package?\n",
            "Answer: ['Barclays']\n",
            "\n",
            "Question: Which company gives lowest package?\n",
            "Answer: ['Seclore']\n",
            "\n",
            "Question: Which company has highest number of students placed?\n",
            "Answer: ['TCS']\n",
            "\n",
            "Question: Which company has lowest number of students placed?\n",
            "Answer: ['Seclore']\n",
            "\n",
            "Question: Which company has least number of students placed?\n",
            "Answer: ['Seclore']\n",
            "\n",
            "Question: Which companies have package as 23.56?\n",
            "Answer: ['Barclays', 'Amazon']\n",
            "\n",
            "Question: Which companies have same package?\n",
            "Answer: ['TCS', 'Infosys', 'LTI', 'Jio', 'Seclore', 'Zeus', 'Aurion']\n",
            "\n",
            "Question: WWhat are packages of TCS and Jio?\n",
            "Answer: ['10.74', '22.15']\n",
            "\n",
            "Question: What is sum of all packages?\n",
            "Answer: ['10.74', '23.56', '14.12', '13.89', '22.15', '9.07', '11.74', '20.58', '23.56']\n",
            "\n",
            "Question: What is average of all packages?\n",
            "Answer: ['10.74', '23.56', '14.12', '13.89', '22.15', '9.07', '11.74', '20.58', '23.56']\n",
            "\n",
            "Question: What is count of all packages?\n",
            "Answer: ['10.74', '23.56', '14.12', '13.89', '22.15', '9.07', '11.74', '20.58', '23.56']\n",
            "\n",
            "Question: What is total of package of TCS and Jio?\n",
            "Answer: ['10.74', '22.15']\n",
            "\n",
            "Question: Who has lesser package than Infosys?\n",
            "Answer: ['Seclore']\n",
            "\n",
            "Question: Who has greater package than Jio?\n",
            "Answer: ['Infosys']\n",
            "\n",
            "Question: What is highest of all packages?\n",
            "Answer: ['23.56']\n",
            "\n",
            "Question: What is maximum package?\n",
            "Answer: ['23.56']\n",
            "\n",
            "Question: What is lowest package?\n",
            "Answer: ['9.07']\n",
            "\n",
            "Question: What is minimum package?\n",
            "Answer: ['9.07']\n",
            "\n"
          ]
        }
      ],
      "source": [
        "for query in queries:\n",
        "    qa(query, data)"
      ]
    },
    {
      "cell_type": "code",
      "execution_count": null,
      "metadata": {},
      "outputs": [],
      "source": [
        "#/////////////////////////////////////////////////////////"
      ]
    },
    {
      "cell_type": "code",
      "execution_count": 11,
      "metadata": {},
      "outputs": [],
      "source": [
        "from transformers import pipeline\n",
        "\n",
        "tqa = pipeline(task=\"table-question-answering\", model=\"google/tapas-large-finetuned-wtq\")"
      ]
    },
    {
      "cell_type": "code",
      "execution_count": 12,
      "metadata": {},
      "outputs": [
        {
          "data": {
            "text/html": [
              "<div>\n",
              "<style scoped>\n",
              "    .dataframe tbody tr th:only-of-type {\n",
              "        vertical-align: middle;\n",
              "    }\n",
              "\n",
              "    .dataframe tbody tr th {\n",
              "        vertical-align: top;\n",
              "    }\n",
              "\n",
              "    .dataframe thead th {\n",
              "        text-align: right;\n",
              "    }\n",
              "</style>\n",
              "<table border=\"1\" class=\"dataframe\">\n",
              "  <thead>\n",
              "    <tr style=\"text-align: right;\">\n",
              "      <th></th>\n",
              "      <th>Team</th>\n",
              "      <th>\"Payroll (millions)\"</th>\n",
              "      <th>\"Wins\"</th>\n",
              "    </tr>\n",
              "  </thead>\n",
              "  <tbody>\n",
              "    <tr>\n",
              "      <th>0</th>\n",
              "      <td>Nationals</td>\n",
              "      <td>81.34</td>\n",
              "      <td>98</td>\n",
              "    </tr>\n",
              "    <tr>\n",
              "      <th>1</th>\n",
              "      <td>Reds</td>\n",
              "      <td>82.2</td>\n",
              "      <td>97</td>\n",
              "    </tr>\n",
              "    <tr>\n",
              "      <th>2</th>\n",
              "      <td>Yankees</td>\n",
              "      <td>197.96</td>\n",
              "      <td>95</td>\n",
              "    </tr>\n",
              "    <tr>\n",
              "      <th>3</th>\n",
              "      <td>Giants</td>\n",
              "      <td>117.62</td>\n",
              "      <td>94</td>\n",
              "    </tr>\n",
              "    <tr>\n",
              "      <th>4</th>\n",
              "      <td>Braves</td>\n",
              "      <td>83.31</td>\n",
              "      <td>94</td>\n",
              "    </tr>\n",
              "    <tr>\n",
              "      <th>5</th>\n",
              "      <td>Athletics</td>\n",
              "      <td>55.37</td>\n",
              "      <td>94</td>\n",
              "    </tr>\n",
              "    <tr>\n",
              "      <th>6</th>\n",
              "      <td>Rangers</td>\n",
              "      <td>120.51</td>\n",
              "      <td>93</td>\n",
              "    </tr>\n",
              "    <tr>\n",
              "      <th>7</th>\n",
              "      <td>Orioles</td>\n",
              "      <td>81.43</td>\n",
              "      <td>93</td>\n",
              "    </tr>\n",
              "    <tr>\n",
              "      <th>8</th>\n",
              "      <td>Rays</td>\n",
              "      <td>64.17</td>\n",
              "      <td>90</td>\n",
              "    </tr>\n",
              "    <tr>\n",
              "      <th>9</th>\n",
              "      <td>Angels</td>\n",
              "      <td>154.49</td>\n",
              "      <td>89</td>\n",
              "    </tr>\n",
              "    <tr>\n",
              "      <th>10</th>\n",
              "      <td>Tigers</td>\n",
              "      <td>132.3</td>\n",
              "      <td>88</td>\n",
              "    </tr>\n",
              "    <tr>\n",
              "      <th>11</th>\n",
              "      <td>Cardinals</td>\n",
              "      <td>110.3</td>\n",
              "      <td>88</td>\n",
              "    </tr>\n",
              "    <tr>\n",
              "      <th>12</th>\n",
              "      <td>Dodgers</td>\n",
              "      <td>95.14</td>\n",
              "      <td>86</td>\n",
              "    </tr>\n",
              "    <tr>\n",
              "      <th>13</th>\n",
              "      <td>White Sox</td>\n",
              "      <td>96.92</td>\n",
              "      <td>85</td>\n",
              "    </tr>\n",
              "    <tr>\n",
              "      <th>14</th>\n",
              "      <td>Brewers</td>\n",
              "      <td>97.65</td>\n",
              "      <td>83</td>\n",
              "    </tr>\n",
              "    <tr>\n",
              "      <th>15</th>\n",
              "      <td>Phillies</td>\n",
              "      <td>174.54</td>\n",
              "      <td>81</td>\n",
              "    </tr>\n",
              "    <tr>\n",
              "      <th>16</th>\n",
              "      <td>Diamondbacks</td>\n",
              "      <td>74.28</td>\n",
              "      <td>81</td>\n",
              "    </tr>\n",
              "    <tr>\n",
              "      <th>17</th>\n",
              "      <td>Pirates</td>\n",
              "      <td>63.43</td>\n",
              "      <td>79</td>\n",
              "    </tr>\n",
              "    <tr>\n",
              "      <th>18</th>\n",
              "      <td>Padres</td>\n",
              "      <td>55.24</td>\n",
              "      <td>76</td>\n",
              "    </tr>\n",
              "    <tr>\n",
              "      <th>19</th>\n",
              "      <td>Mariners</td>\n",
              "      <td>81.97</td>\n",
              "      <td>75</td>\n",
              "    </tr>\n",
              "    <tr>\n",
              "      <th>20</th>\n",
              "      <td>Mets</td>\n",
              "      <td>93.35</td>\n",
              "      <td>74</td>\n",
              "    </tr>\n",
              "    <tr>\n",
              "      <th>21</th>\n",
              "      <td>Blue Jays</td>\n",
              "      <td>75.48</td>\n",
              "      <td>73</td>\n",
              "    </tr>\n",
              "    <tr>\n",
              "      <th>22</th>\n",
              "      <td>Royals</td>\n",
              "      <td>60.91</td>\n",
              "      <td>72</td>\n",
              "    </tr>\n",
              "    <tr>\n",
              "      <th>23</th>\n",
              "      <td>Marlins</td>\n",
              "      <td>118.07</td>\n",
              "      <td>69</td>\n",
              "    </tr>\n",
              "    <tr>\n",
              "      <th>24</th>\n",
              "      <td>Red Sox</td>\n",
              "      <td>173.18</td>\n",
              "      <td>69</td>\n",
              "    </tr>\n",
              "    <tr>\n",
              "      <th>25</th>\n",
              "      <td>Indians</td>\n",
              "      <td>78.43</td>\n",
              "      <td>68</td>\n",
              "    </tr>\n",
              "    <tr>\n",
              "      <th>26</th>\n",
              "      <td>Twins</td>\n",
              "      <td>94.08</td>\n",
              "      <td>66</td>\n",
              "    </tr>\n",
              "    <tr>\n",
              "      <th>27</th>\n",
              "      <td>Rockies</td>\n",
              "      <td>78.06</td>\n",
              "      <td>64</td>\n",
              "    </tr>\n",
              "    <tr>\n",
              "      <th>28</th>\n",
              "      <td>Cubs</td>\n",
              "      <td>88.19</td>\n",
              "      <td>61</td>\n",
              "    </tr>\n",
              "    <tr>\n",
              "      <th>29</th>\n",
              "      <td>Astros</td>\n",
              "      <td>60.65</td>\n",
              "      <td>55</td>\n",
              "    </tr>\n",
              "  </tbody>\n",
              "</table>\n",
              "</div>"
            ],
            "text/plain": [
              "            Team  \"Payroll (millions)\"  \"Wins\"\n",
              "0      Nationals                 81.34      98\n",
              "1           Reds                  82.2      97\n",
              "2        Yankees                197.96      95\n",
              "3         Giants                117.62      94\n",
              "4         Braves                 83.31      94\n",
              "5      Athletics                 55.37      94\n",
              "6        Rangers                120.51      93\n",
              "7        Orioles                 81.43      93\n",
              "8           Rays                 64.17      90\n",
              "9         Angels                154.49      89\n",
              "10        Tigers                 132.3      88\n",
              "11     Cardinals                 110.3      88\n",
              "12       Dodgers                 95.14      86\n",
              "13     White Sox                 96.92      85\n",
              "14       Brewers                 97.65      83\n",
              "15      Phillies                174.54      81\n",
              "16  Diamondbacks                 74.28      81\n",
              "17       Pirates                 63.43      79\n",
              "18        Padres                 55.24      76\n",
              "19      Mariners                 81.97      75\n",
              "20          Mets                 93.35      74\n",
              "21     Blue Jays                 75.48      73\n",
              "22        Royals                 60.91      72\n",
              "23       Marlins                118.07      69\n",
              "24       Red Sox                173.18      69\n",
              "25       Indians                 78.43      68\n",
              "26         Twins                 94.08      66\n",
              "27       Rockies                 78.06      64\n",
              "28          Cubs                 88.19      61\n",
              "29        Astros                 60.65      55"
            ]
          },
          "execution_count": 12,
          "metadata": {},
          "output_type": "execute_result"
        }
      ],
      "source": [
        "\n",
        "table = pd.read_csv(r\"../datasets/mlb_teams_2012.csv\")\n",
        "table = table.astype(str)\n",
        "table"
      ]
    },
    {
      "cell_type": "code",
      "execution_count": 13,
      "metadata": {},
      "outputs": [
        {
          "name": "stderr",
          "output_type": "stream",
          "text": [
            "C:\\Users\\prana\\AppData\\Roaming\\Python\\Python310\\site-packages\\transformers\\models\\tapas\\tokenization_tapas.py:2762: FutureWarning: Series.__getitem__ treating keys as positions is deprecated. In a future version, integer keys will always be treated as labels (consistent with DataFrame behavior). To access a value by position, use `ser.iloc[pos]`\n",
            "  text = normalize_for_match(row[col_index].text)\n",
            "C:\\Users\\prana\\AppData\\Roaming\\Python\\Python310\\site-packages\\transformers\\models\\tapas\\tokenization_tapas.py:1561: FutureWarning: Series.__getitem__ treating keys as positions is deprecated. In a future version, integer keys will always be treated as labels (consistent with DataFrame behavior). To access a value by position, use `ser.iloc[pos]`\n",
            "  cell = row[col_index]\n"
          ]
        },
        {
          "data": {
            "text/plain": [
              "'Rays'"
            ]
          },
          "execution_count": 13,
          "metadata": {},
          "output_type": "execute_result"
        }
      ],
      "source": [
        "question = \"Which Team had 90 Wins?\"\n",
        "answer = tqa(table=table, query=question)\n",
        "answer[\"answer\"]"
      ]
    },
    {
      "cell_type": "code",
      "execution_count": 14,
      "metadata": {},
      "outputs": [],
      "source": [
        "questions = [\n",
        "    \"How many wins the Rangers had?\",\n",
        "    \"How many Payroll the Nationals had?\",\n",
        "    \"Which Team had 94 Wins?\",\n",
        "    \"WWhat is total teams?\",\n",
        "    \"What is highest of all wins?\",\n",
        "    \"What is average of all wins?\",\n",
        "    \"What is sum of all wins?\",\n",
        "]"
      ]
    },
    {
      "cell_type": "code",
      "execution_count": 15,
      "metadata": {},
      "outputs": [],
      "source": [
        "answers = []\n",
        "for question in questions:\n",
        "    answer = tqa(table=table, query=question)\n",
        "    answers.append(answer[\"answer\"])"
      ]
    },
    {
      "cell_type": "code",
      "execution_count": 16,
      "metadata": {},
      "outputs": [
        {
          "name": "stdout",
          "output_type": "stream",
          "text": [
            "Question: How many wins the Rangers had?\n",
            "Answer: SUM > 93\n",
            "\n",
            "Question: How many Payroll the Nationals had?\n",
            "Answer: SUM > 81.34\n",
            "\n",
            "Question: Which Team had 94 Wins?\n",
            "Answer: Giants, Braves, Athletics\n",
            "\n",
            "Question: WWhat is total teams?\n",
            "Answer: COUNT > Nationals, Reds, Yankees, Giants, Braves, Athletics, Rangers, Orioles, Rays, Angels, Tigers, Cardinals, Dodgers, White Sox, Brewers, Phillies, Diamondbacks, Pirates, Padres, Mariners, Mets, Blue Jays, Royals, Marlins, Red Sox, Indians, Twins, Rockies, Cubs, Astros\n",
            "\n",
            "Question: What is highest of all wins?\n",
            "Answer: SUM > 98\n",
            "\n",
            "Question: What is average of all wins?\n",
            "Answer: AVERAGE > 98, 97, 95, 94, 94, 94, 93, 93, 90, 89, 88, 88, 86, 85, 83, 81, 81, 79, 76, 75, 74, 73, 72, 69, 69, 68, 66, 64, 61, 55\n",
            "\n",
            "Question: What is sum of all wins?\n",
            "Answer: SUM > 98, 97, 95, 94, 94, 94, 93, 93, 90, 89, 88, 88, 86, 85, 83, 81, 81, 79, 76, 75, 74, 73, 72, 69, 69, 68, 66, 64, 61, 55\n",
            "\n"
          ]
        }
      ],
      "source": [
        "for i, answer in enumerate(answers):\n",
        "    print(f\"Question: {questions[i]}\")\n",
        "    print(f\"Answer: {answer}\\n\")"
      ]
    },
    {
      "cell_type": "code",
      "execution_count": null,
      "metadata": {},
      "outputs": [],
      "source": [
        "#/////////////////////////////////////////////////////////"
      ]
    },
    {
      "cell_type": "code",
      "execution_count": 17,
      "metadata": {},
      "outputs": [],
      "source": [
        "from transformers import AutoModelForTableQuestionAnswering, AutoTokenizer, pipeline\n",
        "import pandas as pd"
      ]
    },
    {
      "cell_type": "code",
      "execution_count": 19,
      "metadata": {},
      "outputs": [
        {
          "data": {
            "text/html": [
              "<div>\n",
              "<style scoped>\n",
              "    .dataframe tbody tr th:only-of-type {\n",
              "        vertical-align: middle;\n",
              "    }\n",
              "\n",
              "    .dataframe tbody tr th {\n",
              "        vertical-align: top;\n",
              "    }\n",
              "\n",
              "    .dataframe thead th {\n",
              "        text-align: right;\n",
              "    }\n",
              "</style>\n",
              "<table border=\"1\" class=\"dataframe\">\n",
              "  <thead>\n",
              "    <tr style=\"text-align: right;\">\n",
              "      <th></th>\n",
              "      <th>City</th>\n",
              "      <th>Download (Mbps)</th>\n",
              "      <th>Upload (Mbps)</th>\n",
              "      <th>Fastest ISP</th>\n",
              "      <th>Speed Score</th>\n",
              "    </tr>\n",
              "  </thead>\n",
              "  <tbody>\n",
              "    <tr>\n",
              "      <th>0</th>\n",
              "      <td>Adelaide, South Australia</td>\n",
              "      <td>21.93</td>\n",
              "      <td>10.74</td>\n",
              "      <td>TPG</td>\n",
              "      <td>31.09</td>\n",
              "    </tr>\n",
              "    <tr>\n",
              "      <th>1</th>\n",
              "      <td>Brisbane, Queensland</td>\n",
              "      <td>35.08</td>\n",
              "      <td>23.56</td>\n",
              "      <td>Optus</td>\n",
              "      <td>49.19</td>\n",
              "    </tr>\n",
              "    <tr>\n",
              "      <th>2</th>\n",
              "      <td>Canberra, Australian Capital Territory</td>\n",
              "      <td>32.47</td>\n",
              "      <td>14.12</td>\n",
              "      <td>¡¡Net</td>\n",
              "      <td>35.21</td>\n",
              "    </tr>\n",
              "    <tr>\n",
              "      <th>3</th>\n",
              "      <td>Darwin, Northern Territory</td>\n",
              "      <td>29.62</td>\n",
              "      <td>13.89</td>\n",
              "      <td>¡¡Net</td>\n",
              "      <td>34.34</td>\n",
              "    </tr>\n",
              "    <tr>\n",
              "      <th>4</th>\n",
              "      <td>Geelong, Victoria</td>\n",
              "      <td>67.05</td>\n",
              "      <td>22.15</td>\n",
              "      <td>¡¡Net</td>\n",
              "      <td>94.26</td>\n",
              "    </tr>\n",
              "    <tr>\n",
              "      <th>5</th>\n",
              "      <td>Gold Coast, Queensland</td>\n",
              "      <td>32.17</td>\n",
              "      <td>9.07</td>\n",
              "      <td>Optus</td>\n",
              "      <td>91.37</td>\n",
              "    </tr>\n",
              "    <tr>\n",
              "      <th>6</th>\n",
              "      <td>Hobart, Tasmania</td>\n",
              "      <td>27.25</td>\n",
              "      <td>11.74</td>\n",
              "      <td>Telstra</td>\n",
              "      <td>27.80</td>\n",
              "    </tr>\n",
              "    <tr>\n",
              "      <th>7</th>\n",
              "      <td>Melbourne, Victoria</td>\n",
              "      <td>31.63</td>\n",
              "      <td>20.58</td>\n",
              "      <td>Spirit</td>\n",
              "      <td>44.29</td>\n",
              "    </tr>\n",
              "    <tr>\n",
              "      <th>8</th>\n",
              "      <td>Newcastle, New South Wales</td>\n",
              "      <td>33.97</td>\n",
              "      <td>14.74</td>\n",
              "      <td>MyRepublic</td>\n",
              "      <td>57.36</td>\n",
              "    </tr>\n",
              "    <tr>\n",
              "      <th>9</th>\n",
              "      <td>Perth, Western Australia</td>\n",
              "      <td>17.90</td>\n",
              "      <td>7.59</td>\n",
              "      <td>TPG</td>\n",
              "      <td>28.44</td>\n",
              "    </tr>\n",
              "    <tr>\n",
              "      <th>10</th>\n",
              "      <td>Sydney, New South Wales</td>\n",
              "      <td>30.03</td>\n",
              "      <td>16.27</td>\n",
              "      <td>MyRepublic</td>\n",
              "      <td>49.18</td>\n",
              "    </tr>\n",
              "    <tr>\n",
              "      <th>11</th>\n",
              "      <td>Wollongong, New South Wales</td>\n",
              "      <td>33.72</td>\n",
              "      <td>19.78</td>\n",
              "      <td>MyRepublic</td>\n",
              "      <td>94.31</td>\n",
              "    </tr>\n",
              "  </tbody>\n",
              "</table>\n",
              "</div>"
            ],
            "text/plain": [
              "                                      City  Download (Mbps)  Upload (Mbps)  \\\n",
              "0                Adelaide, South Australia            21.93          10.74   \n",
              "1                     Brisbane, Queensland            35.08          23.56   \n",
              "2   Canberra, Australian Capital Territory            32.47          14.12   \n",
              "3               Darwin, Northern Territory            29.62          13.89   \n",
              "4                        Geelong, Victoria            67.05          22.15   \n",
              "5                   Gold Coast, Queensland            32.17           9.07   \n",
              "6                         Hobart, Tasmania            27.25          11.74   \n",
              "7                      Melbourne, Victoria            31.63          20.58   \n",
              "8               Newcastle, New South Wales            33.97          14.74   \n",
              "9                 Perth, Western Australia            17.90           7.59   \n",
              "10                 Sydney, New South Wales            30.03          16.27   \n",
              "11             Wollongong, New South Wales            33.72          19.78   \n",
              "\n",
              "   Fastest ISP  Speed Score  \n",
              "0          TPG        31.09  \n",
              "1        Optus        49.19  \n",
              "2        ¡¡Net        35.21  \n",
              "3        ¡¡Net        34.34  \n",
              "4        ¡¡Net        94.26  \n",
              "5        Optus        91.37  \n",
              "6      Telstra        27.80  \n",
              "7       Spirit        44.29  \n",
              "8   MyRepublic        57.36  \n",
              "9          TPG        28.44  \n",
              "10  MyRepublic        49.18  \n",
              "11  MyRepublic        94.31  "
            ]
          },
          "execution_count": 19,
          "metadata": {},
          "output_type": "execute_result"
        }
      ],
      "source": [
        "data = pd.read_csv(r\"../datasets/data_ISP.csv\")\n",
        "data"
      ]
    },
    {
      "cell_type": "code",
      "execution_count": 20,
      "metadata": {},
      "outputs": [],
      "source": [
        "data = data.astype(str)"
      ]
    },
    {
      "cell_type": "code",
      "execution_count": 21,
      "metadata": {},
      "outputs": [],
      "source": [
        "model = 'google/tapas-large-finetuned-sqa'\n",
        "tapas_model = AutoModelForTableQuestionAnswering.from_pretrained(model)\n",
        "tapas_tokenizer = AutoTokenizer.from_pretrained(model)\n",
        "\n",
        "nlp = pipeline('table-question-answering', model=tapas_model, tokenizer=tapas_tokenizer)\n",
        "\n",
        "def qa(query,data):\n",
        "    print(query)\n",
        "    result = nlp({'table': data,'query':query})\n",
        "    answer = result['cells']\n",
        "    print(answer)\n"
      ]
    },
    {
      "cell_type": "code",
      "execution_count": 23,
      "metadata": {},
      "outputs": [
        {
          "name": "stdout",
          "output_type": "stream",
          "text": [
            "Which city has the highest download speed\n",
            "['Geelong, Victoria']\n"
          ]
        }
      ],
      "source": [
        "prediction = qa('Which city has the highest download speed',data)"
      ]
    },
    {
      "cell_type": "code",
      "execution_count": 24,
      "metadata": {},
      "outputs": [],
      "source": [
        "questions = [\n",
        "    \"What is the smallest Mbps?\",\n",
        "    \"Which city has the highest download speed?\",\n",
        "    \"fastest ISP of queensland?\",\n",
        "    \"Which city has the highest speed score?\",\n",
        "    \"What is the sum of Speed Scores of Victoria and Tasmania?\",\n",
        "    \"Which city has the ISP MyRepublic?\",\n",
        "    \"What are the of Speed Scores of Victoria and Queensland?\",\n",
        "]"
      ]
    },
    {
      "cell_type": "code",
      "execution_count": 25,
      "metadata": {},
      "outputs": [],
      "source": [
        "answers = []\n",
        "for question in questions:\n",
        "    answer = nlp(table=data, query=question)\n",
        "    answers.append(answer[\"answer\"])"
      ]
    },
    {
      "cell_type": "code",
      "execution_count": 26,
      "metadata": {},
      "outputs": [
        {
          "name": "stdout",
          "output_type": "stream",
          "text": [
            "Question: What is the smallest Mbps?\n",
            "Answer: 17.9\n",
            "\n",
            "Question: Which city has the highest download speed?\n",
            "Answer: Geelong, Victoria\n",
            "\n",
            "Question: fastest ISP of queensland?\n",
            "Answer: Optus\n",
            "\n",
            "Question: Which city has the highest speed score?\n",
            "Answer: Wollongong, New South Wales\n",
            "\n",
            "Question: What is the sum of Speed Scores of Victoria and Tasmania?\n",
            "Answer: 94.26, 27.8, 44.29\n",
            "\n",
            "Question: Which city has the ISP MyRepublic?\n",
            "Answer: Wollongong, New South Wales\n",
            "\n",
            "Question: What are the of Speed Scores of Victoria and Queensland?\n",
            "Answer: 49.19, 94.26, 91.37, 44.29\n",
            "\n"
          ]
        }
      ],
      "source": [
        "for i, answer in enumerate(answers):\n",
        "    print(f\"Question: {questions[i]}\")\n",
        "    print(f\"Answer: {answer}\\n\")"
      ]
    }
  ],
  "metadata": {
    "colab": {
      "collapsed_sections": [],
      "name": "TAPAS_Tutorial.ipynb",
      "provenance": []
    },
    "kernelspec": {
      "display_name": "Python 3",
      "name": "python3"
    },
    "language_info": {
      "codemirror_mode": {
        "name": "ipython",
        "version": 3
      },
      "file_extension": ".py",
      "mimetype": "text/x-python",
      "name": "python",
      "nbconvert_exporter": "python",
      "pygments_lexer": "ipython3",
      "version": "3.10.11"
    }
  },
  "nbformat": 4,
  "nbformat_minor": 0
}
