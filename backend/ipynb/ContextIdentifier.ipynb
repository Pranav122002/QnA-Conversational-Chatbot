{
  "cells": [
    {
      "cell_type": "markdown",
      "metadata": {
        "id": "Ef2ZIVGoPA0-"
      },
      "source": [
        "# Context Identification"
      ]
    },
    {
      "cell_type": "code",
      "execution_count": 1,
      "metadata": {},
      "outputs": [],
      "source": [
        "def identify_context(question, dataset):\n",
        "    question_keywords = set(question.lower().split())  # Convert question to lowercase and get keywords\n",
        "\n",
        "    best_context = None\n",
        "    highest_overlap = 0\n",
        "\n",
        "    for context in dataset:\n",
        "        context_lower = context.lower()\n",
        "        context_keywords = set(context_lower.split())\n",
        "\n",
        "        # Calculate the overlap between question keywords and context keywords\n",
        "        overlap = len(question_keywords.intersection(context_keywords))\n",
        "\n",
        "        # Update the best context if the overlap is higher\n",
        "        if overlap > highest_overlap:\n",
        "            best_context = context\n",
        "            highest_overlap = overlap\n",
        "\n",
        "    return best_context"
      ]
    },
    {
      "cell_type": "code",
      "execution_count": 2,
      "metadata": {},
      "outputs": [],
      "source": [
        "question = \"What courses does FCRIT offer?\"\n",
        "\n",
        "dataset = [\n",
        "    \"Father Conceicao Rodrigues Institute of Technology (FCRIT) is a private engineering college.\",\n",
        "    \"The institute offers the B.E degree courses in Computer Engineering, Electrical Engineering.\",\n",
        "    \"Prospective candidates from outside the state of Maharashtra can also apply provided they satisfy the required eligibility criteria.\",\n",
        "    \"The placement activities are looked after by faculty placement officers and student coordinators.\",\n",
        "    \"It offers a four-year baccalaureate course culminating in the B.E. degree conferred by the university.\",\n",
        "]"
      ]
    },
    {
      "cell_type": "code",
      "execution_count": 3,
      "metadata": {},
      "outputs": [
        {
          "name": "stdout",
          "output_type": "stream",
          "text": [
            "Best context: The institute offers the B.E degree courses in Computer Engineering, Electrical Engineering.\n"
          ]
        }
      ],
      "source": [
        "best_context = identify_context(question, dataset)\n",
        "print(\"Best context:\", best_context)"
      ]
    },
    {
      "cell_type": "code",
      "execution_count": null,
      "metadata": {},
      "outputs": [],
      "source": []
    }
  ],
  "metadata": {
    "colab": {
      "collapsed_sections": [],
      "name": "TAPAS_Tutorial.ipynb",
      "provenance": []
    },
    "kernelspec": {
      "display_name": "Python 3",
      "name": "python3"
    },
    "language_info": {
      "codemirror_mode": {
        "name": "ipython",
        "version": 3
      },
      "file_extension": ".py",
      "mimetype": "text/x-python",
      "name": "python",
      "nbconvert_exporter": "python",
      "pygments_lexer": "ipython3",
      "version": "3.10.11"
    }
  },
  "nbformat": 4,
  "nbformat_minor": 0
}
